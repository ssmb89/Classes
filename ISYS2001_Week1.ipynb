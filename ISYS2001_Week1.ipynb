{
  "nbformat": 4,
  "nbformat_minor": 0,
  "metadata": {
    "colab": {
      "name": "ISYS2001-Week1.ipynb",
      "provenance": [],
      "authorship_tag": "ABX9TyOQ/Z02GUrXgIw7Gz+JwgKJ",
      "include_colab_link": true
    },
    "kernelspec": {
      "name": "python3",
      "display_name": "Python 3"
    },
    "language_info": {
      "name": "python"
    }
  },
  "cells": [
    {
      "cell_type": "markdown",
      "metadata": {
        "id": "view-in-github",
        "colab_type": "text"
      },
      "source": [
        "<a href=\"https://colab.research.google.com/github/ssmb89/Classes/blob/main/ISYS2001_Week1.ipynb\" target=\"_parent\"><img src=\"https://colab.research.google.com/assets/colab-badge.svg\" alt=\"Open In Colab\"/></a>"
      ]
    },
    {
      "cell_type": "code",
      "execution_count": null,
      "metadata": {
        "id": "SCNiA8cgXj3n"
      },
      "outputs": [],
      "source": [
        "#Class 1 - Week 1 \n",
        "\n",
        "print(\"Hello World\")"
      ]
    },
    {
      "cell_type": "markdown",
      "source": [
        "## **This is a heading**\n",
        "This is just some text"
      ],
      "metadata": {
        "id": "H0MeVzzmZgVT"
      }
    },
    {
      "cell_type": "code",
      "source": [
        ""
      ],
      "metadata": {
        "id": "8ieYTIBcZoI7"
      },
      "execution_count": null,
      "outputs": []
    }
  ]
}