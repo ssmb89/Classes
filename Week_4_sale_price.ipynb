{
  "nbformat": 4,
  "nbformat_minor": 0,
  "metadata": {
    "colab": {
      "name": "Week 4- sale_price.ipynb",
      "provenance": [],
      "collapsed_sections": [],
      "include_colab_link": true
    },
    "kernelspec": {
      "name": "python3",
      "display_name": "Python 3"
    },
    "language_info": {
      "name": "python"
    }
  },
  "cells": [
    {
      "cell_type": "markdown",
      "metadata": {
        "id": "view-in-github",
        "colab_type": "text"
      },
      "source": [
        "<a href=\"https://colab.research.google.com/github/ssmb89/Classes/blob/main/Week_4_sale_price.ipynb\" target=\"_parent\"><img src=\"https://colab.research.google.com/assets/colab-badge.svg\" alt=\"Open In Colab\"/></a>"
      ]
    },
    {
      "cell_type": "markdown",
      "metadata": {
        "id": "cgTeiXOtSPjH"
      },
      "source": [
        "# Sales Price\n",
        "\n",
        "A local department store needs to develop a program that will computer the total price (including goods and services tax) of the item on sale when given an item's original price and discount percentage.\n",
        "\n",
        "## Tasks\n",
        "* Save to Github\n",
        "* Design Algorithm\n",
        "* Write and test the program in Python"
      ]
    },
    {
      "cell_type": "markdown",
      "source": [
        "\n",
        "Calculate the Discount from the origianl price \n",
        "\n",
        "Add the GST into the total price\n"
      ],
      "metadata": {
        "id": "MpSfI78UfKmB"
      }
    },
    {
      "cell_type": "code",
      "source": [
        "def saleprice(name, oprice, dis_rate):\n",
        "  gst_rate = 0.1\n",
        "  dis_price = oprice * (1-dis_rate)\n",
        "  final_price = dis_price * ( 1 + gst_rate)\n",
        "  print(\"Total price of \" + name + \" is \"+ str(final_price))"
      ],
      "metadata": {
        "id": "XQhBsioogE6e"
      },
      "execution_count": 2,
      "outputs": []
    },
    {
      "cell_type": "code",
      "source": [
        "saleprice(\"Milk\", 5, 0.2)"
      ],
      "metadata": {
        "colab": {
          "base_uri": "https://localhost:8080/"
        },
        "id": "rNB10r7hDq7N",
        "outputId": "5bb83a2d-0146-4fef-d297-0b36875e9091"
      },
      "execution_count": 4,
      "outputs": [
        {
          "output_type": "execute_result",
          "data": {
            "text/plain": [
              "4.4"
            ]
          },
          "metadata": {},
          "execution_count": 4
        }
      ]
    },
    {
      "cell_type": "code",
      "source": [
        ""
      ],
      "metadata": {
        "id": "9GkfOQhAEcys"
      },
      "execution_count": null,
      "outputs": []
    }
  ]
}