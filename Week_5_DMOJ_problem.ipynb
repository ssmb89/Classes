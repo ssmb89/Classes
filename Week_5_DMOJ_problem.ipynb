{
  "nbformat": 4,
  "nbformat_minor": 0,
  "metadata": {
    "colab": {
      "name": "Week 5-DMOJ problem.ipynb",
      "provenance": [],
      "authorship_tag": "ABX9TyMb+ukSdTvn90uNu+xT8rWg",
      "include_colab_link": true
    },
    "kernelspec": {
      "name": "python3",
      "display_name": "Python 3"
    },
    "language_info": {
      "name": "python"
    }
  },
  "cells": [
    {
      "cell_type": "markdown",
      "metadata": {
        "id": "view-in-github",
        "colab_type": "text"
      },
      "source": [
        "<a href=\"https://colab.research.google.com/github/ssmb89/Classes/blob/main/Week_5_DMOJ_problem.ipynb\" target=\"_parent\"><img src=\"https://colab.research.google.com/assets/colab-badge.svg\" alt=\"Open In Colab\"/></a>"
      ]
    },
    {
      "cell_type": "code",
      "execution_count": 5,
      "metadata": {
        "colab": {
          "base_uri": "https://localhost:8080/"
        },
        "id": "y7IMvdclbKpv",
        "outputId": "75571dfd-8e82-4889-a19f-53d64c25501f"
      },
      "outputs": [
        {
          "output_type": "stream",
          "name": "stdout",
          "text": [
            "10\n",
            "3\n",
            "2\n",
            "4\n",
            "6\n",
            "28\n"
          ]
        }
      ],
      "source": [
        "#get amount of data\n",
        "month_mb = int(input())\n",
        "#input number of month\n",
        "n_month = int(input())\n",
        "#excess equal to 0\n",
        "excess = 0\n",
        "\n",
        "#looping through the num of months\n",
        "for i in range(n_month):\n",
        "  #used megabyte per month\n",
        "  used = int(input())\n",
        "  #excess per month after using data (adding excess to old excess)\n",
        "  excess = excess + (month_mb - used)\n",
        "print(excess + month_mb)"
      ]
    },
    {
      "cell_type": "code",
      "source": [
        "print(month_mb)\n",
        "type(month_mb)"
      ],
      "metadata": {
        "id": "K1cDZ7rHb44s"
      },
      "execution_count": null,
      "outputs": []
    },
    {
      "cell_type": "code",
      "source": [
        ""
      ],
      "metadata": {
        "id": "yjPGYDD5cEDz"
      },
      "execution_count": 2,
      "outputs": []
    }
  ]
}