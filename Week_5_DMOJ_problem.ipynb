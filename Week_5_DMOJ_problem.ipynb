{
  "nbformat": 4,
  "nbformat_minor": 0,
  "metadata": {
    "colab": {
      "name": "Week 5-DMOJ problem.ipynb",
      "provenance": [],
      "authorship_tag": "ABX9TyNq5AreZg2NshhZsCXXlEEa",
      "include_colab_link": true
    },
    "kernelspec": {
      "name": "python3",
      "display_name": "Python 3"
    },
    "language_info": {
      "name": "python"
    }
  },
  "cells": [
    {
      "cell_type": "markdown",
      "metadata": {
        "id": "view-in-github",
        "colab_type": "text"
      },
      "source": [
        "<a href=\"https://colab.research.google.com/github/ssmb89/Classes/blob/main/Week_5_DMOJ_problem.ipynb\" target=\"_parent\"><img src=\"https://colab.research.google.com/assets/colab-badge.svg\" alt=\"Open In Colab\"/></a>"
      ]
    },
    {
      "cell_type": "code",
      "execution_count": null,
      "metadata": {
        "id": "y7IMvdclbKpv"
      },
      "outputs": [],
      "source": [
        "#get amount of data\n",
        "month_mb = int(input())\n",
        "#input number of month\n",
        "n_month = int(input())\n",
        "#excess equal to 0\n",
        "excess = 0\n",
        "\n",
        "#looping through the num of months\n",
        "for i in range(n_month):\n",
        "  #used megabyte per month\n",
        "  used = int(input())\n",
        "  #excess per month after using data (adding excess to old excess)\n",
        "  excess = excess + (month_mb - used)\n",
        "print(excess + month_mb)"
      ]
    },
    {
      "cell_type": "code",
      "source": [
        "print(month_mb)\n",
        "type(month_mb)"
      ],
      "metadata": {
        "id": "K1cDZ7rHb44s"
      },
      "execution_count": null,
      "outputs": []
    },
    {
      "cell_type": "code",
      "source": [
        "#PART2\n",
        "#get amount of data\n",
        "month_mb = int(input())\n",
        "#input number of month\n",
        "n_month = int(input())\n",
        "\n",
        "total_mb = month_mb * n_month\n",
        "\n",
        "#looping through the num of months\n",
        "for i in range(n_month):\n",
        "  #used megabyte per month\n",
        "  used = int(input())\n",
        "  total_mb = total_mb - used\n",
        "print(total_mb)"
      ],
      "metadata": {
        "colab": {
          "base_uri": "https://localhost:8080/"
        },
        "id": "yjPGYDD5cEDz",
        "outputId": "69ffd272-8fcd-467c-cd02-01db990ea84d"
      },
      "execution_count": 8,
      "outputs": [
        {
          "output_type": "stream",
          "name": "stdout",
          "text": [
            "10\n",
            "3\n",
            "10\n",
            "2\n",
            "12\n",
            "6\n"
          ]
        }
      ]
    },
    {
      "cell_type": "code",
      "source": [
        ""
      ],
      "metadata": {
        "id": "ELsdVzU3jHWi"
      },
      "execution_count": null,
      "outputs": []
    }
  ]
}