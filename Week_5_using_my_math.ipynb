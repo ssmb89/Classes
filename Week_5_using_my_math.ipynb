{
  "nbformat": 4,
  "nbformat_minor": 0,
  "metadata": {
    "colab": {
      "name": "Week 5- using_my_math.ipynb",
      "provenance": [],
      "include_colab_link": true
    },
    "kernelspec": {
      "name": "python3",
      "display_name": "Python 3"
    },
    "language_info": {
      "name": "python"
    }
  },
  "cells": [
    {
      "cell_type": "markdown",
      "metadata": {
        "id": "view-in-github",
        "colab_type": "text"
      },
      "source": [
        "<a href=\"https://colab.research.google.com/github/ssmb89/Classes/blob/main/Week_5_using_my_math.ipynb\" target=\"_parent\"><img src=\"https://colab.research.google.com/assets/colab-badge.svg\" alt=\"Open In Colab\"/></a>"
      ]
    },
    {
      "cell_type": "markdown",
      "source": [
        "# Test Module: my_math.ipynb\n",
        "\n",
        "In this notebook, write some code to test the functions in *my_math.ipynb* by importing the file as python module. *my_math.ipynb* has some basic arithmetic functions in it.\n",
        "\n",
        "We will try importing as a python script and as a notebook.\n",
        "\n",
        "## Task 0 - Import this notebook to GitHub\n",
        "Save the notebook to your local GitHub repository.\n",
        "\n",
        "## Task 1 - Import as a Python script\n",
        "To do this you will need to:\n",
        "* open my_math.ipynb from the ISYS2001 Worksheets repository\n",
        "* download/save as my_math.py\n",
        "* from this notebook upload my_math.py.  This will put it in the same folder as this notebook.\n",
        "* Import the my_math module\n",
        "\n",
        "    import my_math\n",
        "* write some code to test the functions in my_math module"
      ],
      "metadata": {
        "id": "pM6Ipzg-fJzT"
      }
    },
    {
      "cell_type": "code",
      "execution_count": null,
      "metadata": {
        "id": "vc2SBxd8fDyE"
      },
      "outputs": [],
      "source": [
        "import week_5_my_math\n",
        "\n",
        "week_5_my_math.add(1,2)"
      ]
    },
    {
      "cell_type": "code",
      "source": [
        "help(week_5_my_math.add)\n",
        "help(week_5_my_math.subtract)"
      ],
      "metadata": {
        "id": "dWs3vnBD9jgC"
      },
      "execution_count": null,
      "outputs": []
    },
    {
      "cell_type": "markdown",
      "source": [
        "## Task 2 - Import as a Notebook\n",
        "\n",
        "To do this you will need:\n",
        "* intall margo loader\n",
        "* open my_math.ipynb from the ISYS2001 Worksheets repository\n",
        "* download as a notebook my_math.ipynb\n",
        "* from this notebook upload my_math.ipynb.  This will put it in the same folder as this notebook.\n",
        "* import the notebook\n",
        "    import margo_loader\n",
        "    import my_math\n",
        "\n",
        "* Wrtie some code to test the functions in my_math notebook \n"
      ],
      "metadata": {
        "id": "3mChsfz3hbv2"
      }
    },
    {
      "cell_type": "code",
      "source": [
        "!pip -q install margo-loader"
      ],
      "metadata": {
        "id": "QOOQhfvIiOss"
      },
      "execution_count": 2,
      "outputs": []
    },
    {
      "cell_type": "code",
      "source": [
        "import margo_loader"
      ],
      "metadata": {
        "id": "gvhchdk7Y89D"
      },
      "execution_count": 4,
      "outputs": []
    },
    {
      "cell_type": "code",
      "source": [
        "import week_5_my_math"
      ],
      "metadata": {
        "id": "-QpnYY-_ZpRj"
      },
      "execution_count": null,
      "outputs": []
    },
    {
      "cell_type": "code",
      "source": [
        "from google.colab import drive\n",
        "drive.mount('/content/drive')"
      ],
      "metadata": {
        "colab": {
          "base_uri": "https://localhost:8080/"
        },
        "id": "ibv-6F_q-21Z",
        "outputId": "bd3a99bd-41bd-4f9a-96f2-76b6416ad21a"
      },
      "execution_count": 5,
      "outputs": [
        {
          "output_type": "stream",
          "name": "stdout",
          "text": [
            "Mounted at /content/drive\n"
          ]
        }
      ]
    },
    {
      "cell_type": "code",
      "source": [
        "week_5_my_math.add(2,3)"
      ],
      "metadata": {
        "id": "1V70dUadZ6rv"
      },
      "execution_count": null,
      "outputs": []
    },
    {
      "cell_type": "code",
      "source": [
        ""
      ],
      "metadata": {
        "id": "dcVL-O-aaSJb"
      },
      "execution_count": null,
      "outputs": []
    }
  ]
}