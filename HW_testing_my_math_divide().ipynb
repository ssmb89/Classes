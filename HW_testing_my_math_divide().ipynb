{
  "nbformat": 4,
  "nbformat_minor": 0,
  "metadata": {
    "colab": {
      "name": "HW_testing_my_math.divide().ipynb",
      "provenance": [],
      "include_colab_link": true
    },
    "kernelspec": {
      "name": "python3",
      "display_name": "Python 3"
    },
    "language_info": {
      "name": "python"
    }
  },
  "cells": [
    {
      "cell_type": "markdown",
      "metadata": {
        "id": "view-in-github",
        "colab_type": "text"
      },
      "source": [
        "<a href=\"https://colab.research.google.com/github/ssmb89/Classes/blob/main/HW_testing_my_math_divide().ipynb\" target=\"_parent\"><img src=\"https://colab.research.google.com/assets/colab-badge.svg\" alt=\"Open In Colab\"/></a>"
      ]
    },
    {
      "cell_type": "markdown",
      "source": [
        "## Testing  my_math.divide()\n",
        "\n",
        "What is your preferred testing strategy? Do you like using the assert statement or prefer doctest?  \n",
        "\n",
        "Using your preferred testing strategy, develop a test table and test the following funciton.  Where required update the function so all test behave as expected.\n",
        "\n",
        "\n",
        "## Function to test"
      ],
      "metadata": {
        "id": "LIfoDVzKX7uK"
      }
    },
    {
      "cell_type": "code",
      "source": [
        "def divide(x, y):\n",
        "    '''Divide first by second number'''\n",
        "    return x / y"
      ],
      "metadata": {
        "id": "YH9gDoOYvKwg"
      },
      "execution_count": null,
      "outputs": []
    },
    {
      "cell_type": "markdown",
      "source": [
        "## Test Table\n",
        "\n",
        "List you test cases here."
      ],
      "metadata": {
        "id": "JYSZ-53nLF6n"
      }
    },
    {
      "cell_type": "markdown",
      "source": [
        "**Test cases**\n",
        "\n",
        "divide 1 by 0, result: ZeroDivisionError: division by zero\n",
        "\n",
        "divide 1 by 1, result: 1.0\n",
        "\n",
        "divide 2 by 4, result: 0.5\n",
        "\n",
        "divide 2 by str(4), result: \"Not a number\"\n",
        "\n",
        "divide str(2) by 4, result: \"Not a number\"\n",
        "\n",
        "divide str(2) by str(4) result: \"Not a number\"\n",
        "\n",
        "divide 1.1 by 2.2, result: 0.5\n",
        "\n",
        "divide -1 by -4, result: 0.25\n",
        "\n",
        "divide -1 by 2, result: -0.5\n",
        "\n",
        "divide 1 by -2, result: -0.5\n",
        "\n",
        "divide 1 by 3, result: 0.3333333333333333\n",
        "\n",
        "divide 0 by 2, result: 0.0\n"
      ],
      "metadata": {
        "id": "dHpaWC5Ic4Az"
      }
    },
    {
      "cell_type": "code",
      "source": [
        "import doctest\n",
        "\n",
        "def isNumber(x):\n",
        "  '''Test if the input is a integer or float'''\n",
        "  result = (type(x) == int or type(x) == float)\n",
        "  return result\n",
        "\n",
        "'''Divide first by second number'''\n",
        "def divide(x, y):\n",
        "    '''\n",
        "    >>> divide(1,1)\n",
        "    1.0\n",
        "    >>> divide(2,4)\n",
        "    0.5\n",
        "    >>> divide(2,'4')\n",
        "    'Not a number'\n",
        "    >>> divide('2', 4)\n",
        "    'Not a number'\n",
        "    >>> divide('2','4')\n",
        "    'Not a number'\n",
        "    >>> divide(1.1,2.2)\n",
        "    0.5\n",
        "    >>> divide(-1,-4)\n",
        "    0.25\n",
        "    >>> divide(1,-2)\n",
        "    -0.5\n",
        "    >>> divide(-1,2)\n",
        "    -0.5\n",
        "    >>> divide(1,3)\n",
        "    0.3333333333333333\n",
        "    >>> divide(0,2)\n",
        "    0.0\n",
        "    '''\n",
        "    if isNumber(x) and isNumber(y):\n",
        "      return x/y\n",
        "    return \"Not a number\""
      ],
      "metadata": {
        "id": "DMTITEmbLE_Z"
      },
      "execution_count": 48,
      "outputs": []
    },
    {
      "cell_type": "code",
      "source": [
        "doctest.testmod()"
      ],
      "metadata": {
        "colab": {
          "base_uri": "https://localhost:8080/"
        },
        "id": "9mxqO_sHeorH",
        "outputId": "a0c30b2b-d729-484f-ea4c-5c188409178e"
      },
      "execution_count": 49,
      "outputs": [
        {
          "output_type": "execute_result",
          "data": {
            "text/plain": [
              "TestResults(failed=0, attempted=11)"
            ]
          },
          "metadata": {},
          "execution_count": 49
        }
      ]
    },
    {
      "cell_type": "code",
      "source": [
        ""
      ],
      "metadata": {
        "id": "a09ssXLqe4oB"
      },
      "execution_count": null,
      "outputs": []
    },
    {
      "cell_type": "code",
      "source": [
        "    >>> divide(1,0)\n",
        "    \"ZeroDivisionError: division by zero\""
      ],
      "metadata": {
        "id": "mctHQ-NXfuub"
      },
      "execution_count": null,
      "outputs": []
    }
  ]
}