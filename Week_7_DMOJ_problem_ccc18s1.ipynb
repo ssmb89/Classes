{
  "nbformat": 4,
  "nbformat_minor": 0,
  "metadata": {
    "colab": {
      "name": "Week 7-DMOJ problem ccc18s1.ipynb",
      "provenance": [],
      "collapsed_sections": [],
      "authorship_tag": "ABX9TyOo4DgSTUJQnikN33QJvYFe",
      "include_colab_link": true
    },
    "kernelspec": {
      "name": "python3",
      "display_name": "Python 3"
    },
    "language_info": {
      "name": "python"
    }
  },
  "cells": [
    {
      "cell_type": "markdown",
      "metadata": {
        "id": "view-in-github",
        "colab_type": "text"
      },
      "source": [
        "<a href=\"https://colab.research.google.com/github/ssmb89/Classes/blob/main/Week_7_DMOJ_problem_ccc18s1.ipynb\" target=\"_parent\"><img src=\"https://colab.research.google.com/assets/colab-badge.svg\" alt=\"Open In Colab\"/></a>"
      ]
    },
    {
      "cell_type": "markdown",
      "source": [
        "#CC '18 S1 - Voronoi Villages\n",
        "\n",
        "**Canadian Computing Competition: 2018 Stage 1, Senior #1**\n",
        "In the country of Voronoi, there are *N* villages, located at distinct points on a straight road. Each of these villages will be represented by an integer position along this road.\n",
        "\n",
        "Each village defines its neighbourhood as all points along the road which are closer to it than to any other village. A point which is equally close to two distinct villages *A* and *B* is in the neighbourhood of *A* and also in the neighbourhood of *B*.\n",
        "\n",
        "Each neighbourhood has a size which is the difference between the minimum (leftmost) point in its neighbourhood and the maximum (rightmost) point in its neighbourhood.\n",
        "\n",
        "The neighbourhoods of the leftmost and rightmost villages are defined to be of infinite size, while all other neighbourhoods are finite in size.\n",
        "\n",
        "Determine the smallest size of any of the neighbourhoods (with exactly 1 digit after the decimal point).\n",
        "\n",
        "#Input Specification\n",
        "The first line will contain the number  , the number of villages. On the next  lines there will be one integer per line, where the  line will contain the integer , the position of the  village . All villages are at distinct positions.\n",
        "\n",
        "#Output Specification\n",
        "Output the smallest neighbourhood size with exactly one digit after the decimal point.\n",
        "\n",
        "#Sample Input\n",
        "    5\n",
        "    16\n",
        "    0\n",
        "    10\n",
        "    4\n",
        "    15"
      ],
      "metadata": {
        "id": "NEnG5kwljBmu"
      }
    },
    {
      "cell_type": "code",
      "execution_count": null,
      "metadata": {
        "id": "s9ATMPkji4Wb"
      },
      "outputs": [],
      "source": [
        "help([])"
      ]
    },
    {
      "cell_type": "code",
      "source": [
        "dir([])"
      ],
      "metadata": {
        "id": "gx-0Ga1kjQsl"
      },
      "execution_count": null,
      "outputs": []
    },
    {
      "cell_type": "code",
      "source": [
        "my_list =[]\n",
        "\n",
        "my_list.append(1)\n",
        "print(my_list)\n",
        "\n",
        "aother_list = [5,6,7]\n",
        "my_list.extend(aother_list)\n",
        "print(my_list)\n",
        "\n",
        "my_list.insert(99,22)\n",
        "print(my_list)\n",
        "\n",
        "my_list.sort()\n",
        "print(my_list)\n",
        "\n",
        "my_list.sort(reverse=True)\n",
        "print(my_list)\n",
        "\n",
        "my_list.pop()\n",
        "print(my_list)\n",
        "\n",
        "my_list.pop(0)\n",
        "print(my_list)\n",
        "\n",
        "my_list.remove(5)\n",
        "print(my_list)"
      ],
      "metadata": {
        "colab": {
          "base_uri": "https://localhost:8080/"
        },
        "id": "TmIDzeRFjZbu",
        "outputId": "94be7e20-a697-4347-d173-afb05a5a54d5"
      },
      "execution_count": null,
      "outputs": [
        {
          "output_type": "stream",
          "name": "stdout",
          "text": [
            "[1]\n",
            "[1, 5, 6, 7]\n",
            "[1, 5, 6, 7, 22]\n",
            "[1, 5, 6, 7, 22]\n",
            "[22, 7, 6, 5, 1]\n",
            "[22, 7, 6, 5]\n",
            "[7, 6, 5]\n",
            "[7, 6]\n"
          ]
        }
      ]
    },
    {
      "cell_type": "code",
      "source": [
        "positions = [0,4,10,15,16] #Dummy test data, already sorted\n",
        "\n",
        "left = (positions[1] - positions[0])/ 2\n",
        "right = (positions[2] - positions[1]) /2\n",
        "\n",
        "min_size  = left + right \n",
        "print(min_size)\n"
      ],
      "metadata": {
        "colab": {
          "base_uri": "https://localhost:8080/"
        },
        "id": "yhRoy3ALjs1u",
        "outputId": "e9392b60-0dae-43d9-ea11-5019db31feab"
      },
      "execution_count": null,
      "outputs": [
        {
          "output_type": "stream",
          "name": "stdout",
          "text": [
            "5.0\n"
          ]
        }
      ]
    },
    {
      "cell_type": "code",
      "source": [
        "#get the number of villages \n",
        "n = int(input())\n",
        "\n",
        "#create list to store position\n",
        "positions = []\n",
        "\n",
        "#get each village posisiton into list\n",
        "for i in range(n):\n",
        "  positions.append(int(input()))\n",
        "\n",
        "positions.sort()\n"
      ],
      "metadata": {
        "colab": {
          "base_uri": "https://localhost:8080/"
        },
        "id": "5Z5OuJcnpP9R",
        "outputId": "a227bb80-cde2-4cff-f948-26d2db68b934"
      },
      "execution_count": null,
      "outputs": [
        {
          "name": "stdout",
          "output_type": "stream",
          "text": [
            "5\n",
            "10\n",
            "0\n",
            "21\n",
            "2\n",
            "1\n"
          ]
        }
      ]
    },
    {
      "cell_type": "code",
      "source": [
        "print(range(n))"
      ],
      "metadata": {
        "colab": {
          "base_uri": "https://localhost:8080/"
        },
        "id": "lVgxEPwHqPyc",
        "outputId": "8b2597fc-18b4-4ffa-af76-f9c1987f20a2"
      },
      "execution_count": null,
      "outputs": [
        {
          "output_type": "stream",
          "name": "stdout",
          "text": [
            "range(0, 1)\n"
          ]
        }
      ]
    },
    {
      "cell_type": "code",
      "source": [
        "print(list(range(0, 2)))"
      ],
      "metadata": {
        "colab": {
          "base_uri": "https://localhost:8080/"
        },
        "id": "Sr_yfau0qqqT",
        "outputId": "5bd08aaa-9678-4cf3-86a0-5a511a70fd70"
      },
      "execution_count": null,
      "outputs": [
        {
          "output_type": "stream",
          "name": "stdout",
          "text": [
            "[0, 1]\n"
          ]
        }
      ]
    },
    {
      "cell_type": "code",
      "source": [
        "print(list(range(1,4)))"
      ],
      "metadata": {
        "id": "pYUPDqBAqwk6"
      },
      "execution_count": null,
      "outputs": []
    },
    {
      "cell_type": "code",
      "source": [
        "#get the number of villages \n",
        "n = int(input())\n",
        "\n",
        "#create list to store position\n",
        "positions = []\n",
        "\n",
        "#get each village posisiton into list\n",
        "for i in range(n):\n",
        "  positions.append(int(input()))\n",
        "\n",
        "positions.sort()\n",
        "\n",
        "sizes = []\n",
        "\n",
        "for i in range(1,n-1):\n",
        "  left = (positions[i] - positions[i-1])/ 2\n",
        "  right = (positions[i+1] - positions[i]) /2\n",
        "  the_sizes = left + right \n",
        "  sizes.append(the_sizes)\n",
        "\n",
        "min_size = min(sizes)\n",
        "print(min_size)"
      ],
      "metadata": {
        "id": "21ISCNZwrTd6"
      },
      "execution_count": null,
      "outputs": []
    },
    {
      "cell_type": "code",
      "source": [
        ""
      ],
      "metadata": {
        "id": "xYVNQxk8sZry"
      },
      "execution_count": null,
      "outputs": []
    }
  ]
}